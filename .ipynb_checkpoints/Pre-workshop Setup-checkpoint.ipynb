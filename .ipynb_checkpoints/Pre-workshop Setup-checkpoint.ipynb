{
 "cells": [
  {
   "cell_type": "markdown",
   "metadata": {},
   "source": [
    "# Python Setup for the ComputeFest Deep Learning Workshop\n",
    "\n",
    "Hi there! Thank you for joining us for the deep learning workshop at the ComputeFest 2016! We want to make this workshop interactive, so you can get some hands on experience instead of just following a lecture. To make this possible, it is important that you make sure all the neccessary libraries are up and running on your laptop. \n",
    "\n",
    "We will be using Python 2.7 with [Ipython](http://ipython.org) notebooks, as well as [Theano](deeplearning.net/software/theano). You should also have a basic understanding of git and how to clone a repository.  You should be reasonably comfortable with operating on the command line of your chosen OS, as well.\n",
    "\n",
    "This document is meant to provide some pointers on how to install these libraries. Feel free to alter the environment to your preferred setup. \n",
    "\n",
    "Installation should be pretty straight forward for Mac or Linux users. If you are using Windows, don't despair, I am using it myself and there are some tips below that hopefully will enable you to make it work.\n",
    "\n",
    "You can download this notebook [here](https://raw.githubusercontent.com/vkaynig/ComputeFest2015_DeepLearning/master/Pre-workshop%20Setup.ipynb), or by clicking on the download symbol in the upper right corner if you are viewing this in the nbviewer.\n",
    "\n",
    "## Basic Python installation\n",
    "* We are using Python 2.7\n",
    "\n",
    "* If you don't have Python installed yet, you can use a distribution like [Enthought Canopy](https://www.enthought.com/products/epd/) (previously EPD) . Note that this distribution is only free if you are affiliated with a university.\n",
    "\n",
    "* Anaconda is another Python distribution that is generally free.\n",
    "\n",
    "* If you are using Windows, and you don't have access to Enthought and Anaconda is not working for you, see below on to help you install the environment from scratch.\n",
    "\n",
    "* Similarly, if you are using OSX and aren't already set up with a recent version of python, see below.\n",
    "\n",
    "#### Installing Python under Windows 8 from scratch\n",
    "\n",
    "* We don't recommend using virtual environments for Windows (unless you are an expert).\n",
    "\n",
    "* Install the 2.7 32-bit version of Python from [python.org](https://www.python.org/downloads/).\n",
    "\n",
    "* Install MinGW following [these instructions](http://www.mingw.org/wiki/Getting_Started).\n",
    "\n",
    "* Put the path to MingW into your path environment variable. You can access the variable by hitting win+S and searching for 'environment'. Then choose the path variable for your account and add ';C:\\MinGW\\bin' to the end. \n",
    "\n",
    "* Use the pre-compiled packages provided by [Christoph Gohlke](http://www.lfd.uci.edu/~gohlke/pythonlibs) to install 'numpy-mkl', 'scipy',  'theano', and 'pip'.\n",
    "\n",
    "\n",
    "#### Installing Python under OSX\n",
    "\n",
    "* We strongly suggest using [homebrew](brew.sh).\n",
    "* Make sure /usr/local/bin is on your path.\n",
    "* Install the latest python\n",
    "```\n",
    "    brew install python\n",
    "``` \n",
    "* Make sure you see the correct python\n",
    "```\n",
    "    which python\n",
    "```\n",
    " should report /usr/local/bin/python\n",
    "* Install virtualenv\n",
    "```\n",
    "    pip install virtualenv\n",
    "```\n",
    "* Create and activate a new virtual environment\n",
    "```\n",
    "    virtualenv DeepLearningWorkshop\n",
    "    source DeepLearningWorkshop/bin/activate\n",
    "````\n",
    "\n",
    "\n",
    "## Installing Ipython\n",
    "For the workshop we will be using Ipython notebooks. You can install the necessary packages with 'pip'. \n",
    "\n",
    "* [IPython installation instructions](http://ipython.org/ipython-doc/stable/install/install.html)\n",
    "\n",
    "* You can test if the setup works by executing 'ipython notebook' on the command line. This should open a browser window showing an option to create a new ipython notebook. \n",
    "\n",
    "* At this point you can also download this IPython notebook and execute it yourself. You will need to do this at the end to see if you can execute the script that tests your setup. \n",
    "\n",
    "## Getting friendly with git\n",
    "The installation of Theano involves very basic git commands. If you don't care about the specifics you most probably will be able to finish the installation by just copy and pasting the commands from the Theano installation documentation. If you would like to get some more input on what you are doing, here are some useful resources:\n",
    "\n",
    "* First of all, it does not hurt to just google `git tutorial` and have a look at some of the pages.\n",
    "* There  is a nice [interactive tutorial](https://try.github.io/levels/1/challenges/1) from Github. \n",
    "* And here is a [git cheat-sheet](https://training.github.com/kit/downloads/github-git-cheat-sheet.pdf) in case you need a quick reference.\n",
    "\n",
    "## Installing Theano\n",
    "Theano is a great library for deep learning, even providing transparent execution of your code on the GPU (though only on NVIDIA GPUs). The developers did a great job not only with the library itself, but also with the documentation. \n",
    "\n",
    "For the workshop you should have a working installation of Theano on the CPU, GPU processing is optional and will make computations much faster, but might be not suitable for your laptop configuration. \n",
    "\n",
    "* If you didn't install theano from another source, see [Theano's dependencies and Basic installation instructions](http://deeplearning.net/software/theano/install.html)"
   ]
  },
  {
   "cell_type": "markdown",
   "metadata": {},
   "source": [
    "## Checking if everything works\n",
    "\n",
    "If you have installed everything needed for the workshop successfully you should be able to import theano without problems:"
   ]
  },
  {
   "cell_type": "code",
   "execution_count": 3,
   "metadata": {
    "collapsed": false
   },
   "outputs": [],
   "source": [
    "from theano import *\n",
    "import theano.tensor as T"
   ]
  }
 ],
 "metadata": {
  "kernelspec": {
   "display_name": "Python 2",
   "language": "python",
   "name": "python2"
  },
  "language_info": {
   "codemirror_mode": {
    "name": "ipython",
    "version": 2
   },
   "file_extension": ".py",
   "mimetype": "text/x-python",
   "name": "python",
   "nbconvert_exporter": "python",
   "pygments_lexer": "ipython2",
   "version": "2.7.11"
  }
 },
 "nbformat": 4,
 "nbformat_minor": 0
}
